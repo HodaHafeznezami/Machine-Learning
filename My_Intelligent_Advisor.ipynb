{
 "cells": [
  {
   "cell_type": "code",
   "execution_count": 1,
   "metadata": {},
   "outputs": [],
   "source": [
    "import numpy as np\n",
    "import pandas as pd\n",
    "import sklearn\n",
    "import matplotlib.pyplot as plt\n",
    "import seaborn as sns\n",
    "\n",
    "import warnings\n",
    "warnings.simplefilter(action='ignore', category=FutureWarning)"
   ]
  },
  {
   "cell_type": "code",
   "execution_count": 2,
   "metadata": {},
   "outputs": [
    {
     "data": {
      "text/html": [
       "<div>\n",
       "<style scoped>\n",
       "    .dataframe tbody tr th:only-of-type {\n",
       "        vertical-align: middle;\n",
       "    }\n",
       "\n",
       "    .dataframe tbody tr th {\n",
       "        vertical-align: top;\n",
       "    }\n",
       "\n",
       "    .dataframe thead th {\n",
       "        text-align: right;\n",
       "    }\n",
       "</style>\n",
       "<table border=\"1\" class=\"dataframe\">\n",
       "  <thead>\n",
       "    <tr style=\"text-align: right;\">\n",
       "      <th></th>\n",
       "      <th>operationId</th>\n",
       "      <th>controlId</th>\n",
       "      <th>level of risk</th>\n",
       "      <th>timestamp</th>\n",
       "    </tr>\n",
       "  </thead>\n",
       "  <tbody>\n",
       "    <tr>\n",
       "      <th>0</th>\n",
       "      <td>1</td>\n",
       "      <td>1</td>\n",
       "      <td>4.0</td>\n",
       "      <td>964982703</td>\n",
       "    </tr>\n",
       "    <tr>\n",
       "      <th>1</th>\n",
       "      <td>1</td>\n",
       "      <td>3</td>\n",
       "      <td>4.0</td>\n",
       "      <td>964981247</td>\n",
       "    </tr>\n",
       "    <tr>\n",
       "      <th>2</th>\n",
       "      <td>1</td>\n",
       "      <td>6</td>\n",
       "      <td>4.0</td>\n",
       "      <td>964982224</td>\n",
       "    </tr>\n",
       "    <tr>\n",
       "      <th>3</th>\n",
       "      <td>1</td>\n",
       "      <td>47</td>\n",
       "      <td>5.0</td>\n",
       "      <td>964983815</td>\n",
       "    </tr>\n",
       "    <tr>\n",
       "      <th>4</th>\n",
       "      <td>1</td>\n",
       "      <td>50</td>\n",
       "      <td>5.0</td>\n",
       "      <td>964982931</td>\n",
       "    </tr>\n",
       "  </tbody>\n",
       "</table>\n",
       "</div>"
      ],
      "text/plain": [
       "   operationId  controlId  level of risk  timestamp\n",
       "0            1          1            4.0  964982703\n",
       "1            1          3            4.0  964981247\n",
       "2            1          6            4.0  964982224\n",
       "3            1         47            5.0  964983815\n",
       "4            1         50            5.0  964982931"
      ]
     },
     "execution_count": 2,
     "metadata": {},
     "output_type": "execute_result"
    }
   ],
   "source": [
    "level_of_risk = pd.read_csv(\"level-of-risk.csv\")\n",
    "level_of_risk.head()"
   ]
  },
  {
   "cell_type": "code",
   "execution_count": 3,
   "metadata": {},
   "outputs": [
    {
     "data": {
      "text/html": [
       "<div>\n",
       "<style scoped>\n",
       "    .dataframe tbody tr th:only-of-type {\n",
       "        vertical-align: middle;\n",
       "    }\n",
       "\n",
       "    .dataframe tbody tr th {\n",
       "        vertical-align: top;\n",
       "    }\n",
       "\n",
       "    .dataframe thead th {\n",
       "        text-align: right;\n",
       "    }\n",
       "</style>\n",
       "<table border=\"1\" class=\"dataframe\">\n",
       "  <thead>\n",
       "    <tr style=\"text-align: right;\">\n",
       "      <th></th>\n",
       "      <th>controlId</th>\n",
       "      <th>title</th>\n",
       "      <th>type</th>\n",
       "    </tr>\n",
       "  </thead>\n",
       "  <tbody>\n",
       "    <tr>\n",
       "      <th>0</th>\n",
       "      <td>1.0</td>\n",
       "      <td>Wheel Management</td>\n",
       "      <td>Decontamination</td>\n",
       "    </tr>\n",
       "    <tr>\n",
       "      <th>1</th>\n",
       "      <td>2.0</td>\n",
       "      <td>Wheel Management</td>\n",
       "      <td>Decontamination</td>\n",
       "    </tr>\n",
       "    <tr>\n",
       "      <th>2</th>\n",
       "      <td>3.0</td>\n",
       "      <td>Wheel Management</td>\n",
       "      <td>Decontamination</td>\n",
       "    </tr>\n",
       "    <tr>\n",
       "      <th>3</th>\n",
       "      <td>4.0</td>\n",
       "      <td>Wheel Management</td>\n",
       "      <td>Decontamination</td>\n",
       "    </tr>\n",
       "    <tr>\n",
       "      <th>4</th>\n",
       "      <td>5.0</td>\n",
       "      <td>Wheel Management</td>\n",
       "      <td>Decontamination</td>\n",
       "    </tr>\n",
       "  </tbody>\n",
       "</table>\n",
       "</div>"
      ],
      "text/plain": [
       "   controlId             title             type\n",
       "0        1.0  Wheel Management  Decontamination\n",
       "1        2.0  Wheel Management  Decontamination\n",
       "2        3.0  Wheel Management  Decontamination\n",
       "3        4.0  Wheel Management  Decontamination\n",
       "4        5.0  Wheel Management  Decontamination"
      ]
     },
     "execution_count": 3,
     "metadata": {},
     "output_type": "execute_result"
    }
   ],
   "source": [
    "controls = pd.read_csv(\"controls.csv\")\n",
    "controls.head()"
   ]
  },
  {
   "cell_type": "code",
   "execution_count": 4,
   "metadata": {},
   "outputs": [
    {
     "name": "stdout",
     "output_type": "stream",
     "text": [
      "Number of risk leveling: 100836\n",
      "Number of unique controlId's: 9724\n",
      "Number of unique operations: 610\n",
      "Average number of risk leveling per operation: 165.3\n",
      "Average number of risk leveling per control: 10.37\n"
     ]
    }
   ],
   "source": [
    "n_level_of_risk = len(level_of_risk)\n",
    "n_controls = level_of_risk['controlId'].nunique()\n",
    "n_operations = level_of_risk['operationId'].nunique()\n",
    "\n",
    "print(f\"Number of risk leveling: {n_level_of_risk}\")\n",
    "print(f\"Number of unique controlId's: {n_controls}\")\n",
    "print(f\"Number of unique operations: {n_operations}\")\n",
    "print(f\"Average number of risk leveling per operation: {round(n_level_of_risk/n_operations, 2)}\")\n",
    "print(f\"Average number of risk leveling per control: {round(n_level_of_risk/n_controls, 2)}\")"
   ]
  },
  {
   "cell_type": "code",
   "execution_count": 5,
   "metadata": {},
   "outputs": [
    {
     "data": {
      "text/html": [
       "<div>\n",
       "<style scoped>\n",
       "    .dataframe tbody tr th:only-of-type {\n",
       "        vertical-align: middle;\n",
       "    }\n",
       "\n",
       "    .dataframe tbody tr th {\n",
       "        vertical-align: top;\n",
       "    }\n",
       "\n",
       "    .dataframe thead th {\n",
       "        text-align: right;\n",
       "    }\n",
       "</style>\n",
       "<table border=\"1\" class=\"dataframe\">\n",
       "  <thead>\n",
       "    <tr style=\"text-align: right;\">\n",
       "      <th></th>\n",
       "      <th>operationId</th>\n",
       "      <th>n_level_of_risk</th>\n",
       "    </tr>\n",
       "  </thead>\n",
       "  <tbody>\n",
       "    <tr>\n",
       "      <th>0</th>\n",
       "      <td>1</td>\n",
       "      <td>232</td>\n",
       "    </tr>\n",
       "    <tr>\n",
       "      <th>1</th>\n",
       "      <td>2</td>\n",
       "      <td>29</td>\n",
       "    </tr>\n",
       "    <tr>\n",
       "      <th>2</th>\n",
       "      <td>3</td>\n",
       "      <td>39</td>\n",
       "    </tr>\n",
       "    <tr>\n",
       "      <th>3</th>\n",
       "      <td>4</td>\n",
       "      <td>216</td>\n",
       "    </tr>\n",
       "    <tr>\n",
       "      <th>4</th>\n",
       "      <td>5</td>\n",
       "      <td>44</td>\n",
       "    </tr>\n",
       "  </tbody>\n",
       "</table>\n",
       "</div>"
      ],
      "text/plain": [
       "   operationId  n_level_of_risk\n",
       "0            1              232\n",
       "1            2               29\n",
       "2            3               39\n",
       "3            4              216\n",
       "4            5               44"
      ]
     },
     "execution_count": 5,
     "metadata": {},
     "output_type": "execute_result"
    }
   ],
   "source": [
    "operation_freq = level_of_risk[['operationId', 'controlId']].groupby('operationId').count().reset_index()\n",
    "operation_freq.columns = ['operationId', 'n_level_of_risk']\n",
    "operation_freq.head()"
   ]
  },
  {
   "cell_type": "code",
   "execution_count": 6,
   "metadata": {},
   "outputs": [
    {
     "name": "stdout",
     "output_type": "stream",
     "text": [
      "Mean number of risk leveling for a given operation: 165.30.\n"
     ]
    }
   ],
   "source": [
    "print(f\"Mean number of risk leveling for a given operation: {operation_freq['n_level_of_risk'].mean():.2f}.\")"
   ]
  },
  {
   "cell_type": "code",
   "execution_count": 7,
   "metadata": {},
   "outputs": [
    {
     "data": {
      "image/png": "[encoded data removed]",
      "text/plain": [
       "<Figure size 1008x360 with 2 Axes>"
      ]
     },
     "metadata": {},
     "output_type": "display_data"
    }
   ],
   "source": [
    "sns.set_style(\"whitegrid\")\n",
    "plt.figure(figsize=(14,5))\n",
    "plt.subplot(1,2,1)\n",
    "ax = sns.countplot(x=\"level of risk\", data=level_of_risk, palette=\"viridis\")\n",
    "plt.title(\"Distribution of control risk leveling\")\n",
    "\n",
    "plt.subplot(1,2,2)\n",
    "ax = sns.kdeplot(operation_freq['n_level_of_risk'], shade=True, legend=False)\n",
    "plt.axvline(operation_freq['n_level_of_risk'].mean(), color=\"k\", linestyle=\"--\")\n",
    "plt.xlabel(\"# risk leveling per operation\")\n",
    "plt.ylabel(\"density\")\n",
    "plt.title(\"Number of controls risk leveled per operation\")\n",
    "plt.show()"
   ]
  },
  {
   "cell_type": "code",
   "execution_count": 8,
   "metadata": {},
   "outputs": [
    {
     "data": {
      "text/html": [
       "<div>\n",
       "<style scoped>\n",
       "    .dataframe tbody tr th:only-of-type {\n",
       "        vertical-align: middle;\n",
       "    }\n",
       "\n",
       "    .dataframe tbody tr th {\n",
       "        vertical-align: top;\n",
       "    }\n",
       "\n",
       "    .dataframe thead th {\n",
       "        text-align: right;\n",
       "    }\n",
       "</style>\n",
       "<table border=\"1\" class=\"dataframe\">\n",
       "  <thead>\n",
       "    <tr style=\"text-align: right;\">\n",
       "      <th></th>\n",
       "      <th>controlId</th>\n",
       "      <th>title</th>\n",
       "      <th>type</th>\n",
       "    </tr>\n",
       "  </thead>\n",
       "  <tbody>\n",
       "    <tr>\n",
       "      <th>2689</th>\n",
       "      <td>3604.0</td>\n",
       "      <td>Grounding and Bonding</td>\n",
       "      <td>Fundamentally Stable Parking</td>\n",
       "    </tr>\n",
       "  </tbody>\n",
       "</table>\n",
       "</div>"
      ],
      "text/plain": [
       "      controlId                  title                          type\n",
       "2689     3604.0  Grounding and Bonding  Fundamentally Stable Parking"
      ]
     },
     "execution_count": 8,
     "metadata": {},
     "output_type": "execute_result"
    }
   ],
   "source": [
    "mean_risk_leveling = level_of_risk.groupby('controlId')[['level of risk']].mean()\n",
    "\n",
    "lowest_risk_leveled = mean_risk_leveling['level of risk'].idxmin()\n",
    "controls.loc[controls['controlId'] == lowest_risk_leveled]"
   ]
  },
  {
   "cell_type": "code",
   "execution_count": 9,
   "metadata": {},
   "outputs": [
    {
     "data": {
      "text/html": [
       "<div>\n",
       "<style scoped>\n",
       "    .dataframe tbody tr th:only-of-type {\n",
       "        vertical-align: middle;\n",
       "    }\n",
       "\n",
       "    .dataframe tbody tr th {\n",
       "        vertical-align: top;\n",
       "    }\n",
       "\n",
       "    .dataframe thead th {\n",
       "        text-align: right;\n",
       "    }\n",
       "</style>\n",
       "<table border=\"1\" class=\"dataframe\">\n",
       "  <thead>\n",
       "    <tr style=\"text-align: right;\">\n",
       "      <th></th>\n",
       "      <th>controlId</th>\n",
       "      <th>title</th>\n",
       "      <th>type</th>\n",
       "    </tr>\n",
       "  </thead>\n",
       "  <tbody>\n",
       "    <tr>\n",
       "      <th>48</th>\n",
       "      <td>53.0</td>\n",
       "      <td>Wheel Management</td>\n",
       "      <td>NAP NOx abator low temperature protection</td>\n",
       "    </tr>\n",
       "  </tbody>\n",
       "</table>\n",
       "</div>"
      ],
      "text/plain": [
       "    controlId             title                                       type\n",
       "48       53.0  Wheel Management  NAP NOx abator low temperature protection"
      ]
     },
     "execution_count": 9,
     "metadata": {},
     "output_type": "execute_result"
    }
   ],
   "source": [
    "highest_risk_leveled = mean_risk_leveling['level of risk'].idxmax()\n",
    "controls.loc[controls['controlId'] == highest_risk_leveled]"
   ]
  },
  {
   "cell_type": "code",
   "execution_count": 10,
   "metadata": {},
   "outputs": [
    {
     "data": {
      "text/html": [
       "<div>\n",
       "<style scoped>\n",
       "    .dataframe tbody tr th:only-of-type {\n",
       "        vertical-align: middle;\n",
       "    }\n",
       "\n",
       "    .dataframe tbody tr th {\n",
       "        vertical-align: top;\n",
       "    }\n",
       "\n",
       "    .dataframe thead th {\n",
       "        text-align: right;\n",
       "    }\n",
       "</style>\n",
       "<table border=\"1\" class=\"dataframe\">\n",
       "  <thead>\n",
       "    <tr style=\"text-align: right;\">\n",
       "      <th></th>\n",
       "      <th>operationId</th>\n",
       "      <th>controlId</th>\n",
       "      <th>level of risk</th>\n",
       "      <th>timestamp</th>\n",
       "    </tr>\n",
       "  </thead>\n",
       "  <tbody>\n",
       "    <tr>\n",
       "      <th>13368</th>\n",
       "      <td>85</td>\n",
       "      <td>53</td>\n",
       "      <td>5.0</td>\n",
       "      <td>889468268</td>\n",
       "    </tr>\n",
       "    <tr>\n",
       "      <th>96115</th>\n",
       "      <td>603</td>\n",
       "      <td>53</td>\n",
       "      <td>5.0</td>\n",
       "      <td>963180003</td>\n",
       "    </tr>\n",
       "  </tbody>\n",
       "</table>\n",
       "</div>"
      ],
      "text/plain": [
       "       operationId  controlId  level of risk  timestamp\n",
       "13368           85         53            5.0  889468268\n",
       "96115          603         53            5.0  963180003"
      ]
     },
     "execution_count": 10,
     "metadata": {},
     "output_type": "execute_result"
    }
   ],
   "source": [
    "level_of_risk[level_of_risk['controlId']==highest_risk_leveled]"
   ]
  },
  {
   "cell_type": "code",
   "execution_count": 11,
   "metadata": {},
   "outputs": [],
   "source": [
    "control_stats = level_of_risk.groupby('controlId')[['level of risk']].agg(['count', 'mean'])\n",
    "control_stats.columns = control_stats.columns.droplevel()"
   ]
  },
  {
   "cell_type": "code",
   "execution_count": 12,
   "metadata": {},
   "outputs": [],
   "source": [
    "C = control_stats['count'].mean()\n",
    "m = control_stats['mean'].mean()\n",
    "\n",
    "def bayesian_avg(level_of_risk):\n",
    "    bayesian_avg = (C*m+level_of_risk.sum())/(C+level_of_risk.count())\n",
    "    return bayesian_avg\n",
    "\n",
    "bayesian_avg_level_of_risk = level_of_risk.groupby('controlId')['level of risk'].agg(bayesian_avg).reset_index()\n",
    "bayesian_avg_level_of_risk.columns = ['controlId', 'bayesian_avg']\n",
    "control_stats = control_stats.merge(bayesian_avg_level_of_risk, on='controlId')"
   ]
  },
  {
   "cell_type": "code",
   "execution_count": 13,
   "metadata": {},
   "outputs": [
    {
     "data": {
      "text/html": [
       "<div>\n",
       "<style scoped>\n",
       "    .dataframe tbody tr th:only-of-type {\n",
       "        vertical-align: middle;\n",
       "    }\n",
       "\n",
       "    .dataframe tbody tr th {\n",
       "        vertical-align: top;\n",
       "    }\n",
       "\n",
       "    .dataframe thead th {\n",
       "        text-align: right;\n",
       "    }\n",
       "</style>\n",
       "<table border=\"1\" class=\"dataframe\">\n",
       "  <thead>\n",
       "    <tr style=\"text-align: right;\">\n",
       "      <th></th>\n",
       "      <th>controlId</th>\n",
       "      <th>count</th>\n",
       "      <th>mean</th>\n",
       "      <th>bayesian_avg</th>\n",
       "      <th>title</th>\n",
       "    </tr>\n",
       "  </thead>\n",
       "  <tbody>\n",
       "    <tr>\n",
       "      <th>277</th>\n",
       "      <td>318</td>\n",
       "      <td>317</td>\n",
       "      <td>4.429022</td>\n",
       "      <td>4.392070</td>\n",
       "      <td>Fundamentally Stable Parking</td>\n",
       "    </tr>\n",
       "    <tr>\n",
       "      <th>659</th>\n",
       "      <td>858</td>\n",
       "      <td>192</td>\n",
       "      <td>4.289062</td>\n",
       "      <td>4.236457</td>\n",
       "      <td>Battery Isolation</td>\n",
       "    </tr>\n",
       "    <tr>\n",
       "      <th>2224</th>\n",
       "      <td>2959</td>\n",
       "      <td>218</td>\n",
       "      <td>4.272936</td>\n",
       "      <td>4.227052</td>\n",
       "      <td>Wheel Management</td>\n",
       "    </tr>\n",
       "    <tr>\n",
       "      <th>224</th>\n",
       "      <td>260</td>\n",
       "      <td>251</td>\n",
       "      <td>4.231076</td>\n",
       "      <td>4.192646</td>\n",
       "      <td>Seatbelts</td>\n",
       "    </tr>\n",
       "    <tr>\n",
       "      <th>46</th>\n",
       "      <td>50</td>\n",
       "      <td>204</td>\n",
       "      <td>4.237745</td>\n",
       "      <td>4.190567</td>\n",
       "      <td>Wheel Management</td>\n",
       "    </tr>\n",
       "  </tbody>\n",
       "</table>\n",
       "</div>"
      ],
      "text/plain": [
       "      controlId  count      mean  bayesian_avg                         title\n",
       "277         318    317  4.429022      4.392070  Fundamentally Stable Parking\n",
       "659         858    192  4.289062      4.236457             Battery Isolation\n",
       "2224       2959    218  4.272936      4.227052              Wheel Management\n",
       "224         260    251  4.231076      4.192646                     Seatbelts\n",
       "46           50    204  4.237745      4.190567              Wheel Management"
      ]
     },
     "execution_count": 13,
     "metadata": {},
     "output_type": "execute_result"
    }
   ],
   "source": [
    "control_stats = control_stats.merge(controls[['controlId', 'title']])\n",
    "control_stats.sort_values('bayesian_avg', ascending=False).head()"
   ]
  },
  {
   "cell_type": "code",
   "execution_count": 14,
   "metadata": {},
   "outputs": [
    {
     "data": {
      "text/html": [
       "<div>\n",
       "<style scoped>\n",
       "    .dataframe tbody tr th:only-of-type {\n",
       "        vertical-align: middle;\n",
       "    }\n",
       "\n",
       "    .dataframe tbody tr th {\n",
       "        vertical-align: top;\n",
       "    }\n",
       "\n",
       "    .dataframe thead th {\n",
       "        text-align: right;\n",
       "    }\n",
       "</style>\n",
       "<table border=\"1\" class=\"dataframe\">\n",
       "  <thead>\n",
       "    <tr style=\"text-align: right;\">\n",
       "      <th></th>\n",
       "      <th>controlId</th>\n",
       "      <th>count</th>\n",
       "      <th>mean</th>\n",
       "      <th>bayesian_avg</th>\n",
       "      <th>title</th>\n",
       "    </tr>\n",
       "  </thead>\n",
       "  <tbody>\n",
       "    <tr>\n",
       "      <th>1172</th>\n",
       "      <td>1556</td>\n",
       "      <td>19</td>\n",
       "      <td>1.605263</td>\n",
       "      <td>2.190377</td>\n",
       "      <td>Stand-by Person</td>\n",
       "    </tr>\n",
       "    <tr>\n",
       "      <th>2679</th>\n",
       "      <td>3593</td>\n",
       "      <td>19</td>\n",
       "      <td>1.657895</td>\n",
       "      <td>2.224426</td>\n",
       "      <td>Bearing Stand-off Distance</td>\n",
       "    </tr>\n",
       "    <tr>\n",
       "      <th>1372</th>\n",
       "      <td>1882</td>\n",
       "      <td>33</td>\n",
       "      <td>1.954545</td>\n",
       "      <td>2.267268</td>\n",
       "      <td>Battery Isolation</td>\n",
       "    </tr>\n",
       "    <tr>\n",
       "      <th>1144</th>\n",
       "      <td>1499</td>\n",
       "      <td>27</td>\n",
       "      <td>1.925926</td>\n",
       "      <td>2.296800</td>\n",
       "      <td>Stand-by Person</td>\n",
       "    </tr>\n",
       "    <tr>\n",
       "      <th>1988</th>\n",
       "      <td>2643</td>\n",
       "      <td>16</td>\n",
       "      <td>1.687500</td>\n",
       "      <td>2.306841</td>\n",
       "      <td>Secondary Restraints</td>\n",
       "    </tr>\n",
       "  </tbody>\n",
       "</table>\n",
       "</div>"
      ],
      "text/plain": [
       "      controlId  count      mean  bayesian_avg                       title\n",
       "1172       1556     19  1.605263      2.190377             Stand-by Person\n",
       "2679       3593     19  1.657895      2.224426  Bearing Stand-off Distance\n",
       "1372       1882     33  1.954545      2.267268           Battery Isolation\n",
       "1144       1499     27  1.925926      2.296800             Stand-by Person\n",
       "1988       2643     16  1.687500      2.306841        Secondary Restraints"
      ]
     },
     "execution_count": 14,
     "metadata": {},
     "output_type": "execute_result"
    }
   ],
   "source": [
    "control_stats.sort_values('bayesian_avg', ascending=True).head()"
   ]
  },
  {
   "cell_type": "code",
   "execution_count": 15,
   "metadata": {},
   "outputs": [],
   "source": [
    "from scipy.sparse import csr_matrix\n",
    "\n",
    "def create_X(df):\n",
    "    \"\"\"\n",
    "    Generates a sparse matrix from ratings dataframe.\n",
    "    \n",
    "    Args:\n",
    "        df: pandas dataframe\n",
    "    \n",
    "    Returns:\n",
    "        X: sparse matrix\n",
    "        operation_mapper: dict that maps operation id's to operation indices\n",
    "        operation_inv_mapper: dict that maps operation indices to operation id's\n",
    "        control_mapper: dict that maps control id's to control indices\n",
    "        control_inv_mapper: dict that maps control indices to control id's\n",
    "    \"\"\"\n",
    "    N = df['operationId'].nunique()\n",
    "    M = df['controlId'].nunique()\n",
    "\n",
    "    operation_mapper = dict(zip(np.unique(df[\"operationId\"]), list(range(N))))\n",
    "    control_mapper = dict(zip(np.unique(df[\"controlId\"]), list(range(M))))\n",
    "    \n",
    "    operation_inv_mapper = dict(zip(list(range(N)), np.unique(df[\"operationId\"])))\n",
    "    control_inv_mapper = dict(zip(list(range(M)), np.unique(df[\"controlId\"])))\n",
    "    \n",
    "    operation_index = [operation_mapper[i] for i in df['operationId']]\n",
    "    control_index = [control_mapper[i] for i in df['controlId']]\n",
    "\n",
    "    X = csr_matrix((df[\"level of risk\"], (control_index, operation_index)), shape=(M, N))\n",
    "    \n",
    "    return X, operation_mapper, control_mapper, operation_inv_mapper, control_inv_mapper"
   ]
  },
  {
   "cell_type": "code",
   "execution_count": 16,
   "metadata": {},
   "outputs": [],
   "source": [
    "X, operation_mapper, control_mapper, operation_inv_mapper, control_inv_mapper = create_X(level_of_risk)"
   ]
  },
  {
   "cell_type": "code",
   "execution_count": 17,
   "metadata": {},
   "outputs": [
    {
     "name": "stdout",
     "output_type": "stream",
     "text": [
      "Matrix sparsity: 1.7%\n"
     ]
    }
   ],
   "source": [
    "sparsity = X.count_nonzero()/(X.shape[0]*X.shape[1])\n",
    "\n",
    "print(f\"Matrix sparsity: {round(sparsity*100,2)}%\")"
   ]
  },
  {
   "cell_type": "code",
   "execution_count": 18,
   "metadata": {},
   "outputs": [],
   "source": [
    "from scipy.sparse import save_npz\n",
    "\n",
    "save_npz('operation_control_matrix.npz', X)"
   ]
  },
  {
   "cell_type": "code",
   "execution_count": 19,
   "metadata": {},
   "outputs": [
    {
     "name": "stdout",
     "output_type": "stream",
     "text": [
      "indices\n",
      "[  0   4   6 ... 183 183 330]\n",
      "indptr\n",
      "[     0    215    325 ... 100834 100835 100836]\n",
      "format\n",
      "b'csr'\n",
      "shape\n",
      "[9724  610]\n",
      "data\n",
      "[4.  4.  4.5 ... 3.5 3.5 4. ]\n"
     ]
    }
   ],
   "source": [
    "from numpy import load\n",
    "\n",
    "data = load('operation_control_matrix.npz')\n",
    "lst = data.files\n",
    "for item in lst:\n",
    "    print(item)\n",
    "    print(data[item])"
   ]
  },
  {
   "cell_type": "code",
   "execution_count": 20,
   "metadata": {},
   "outputs": [],
   "source": [
    "from sklearn.neighbors import NearestNeighbors\n",
    "\n",
    "def find_similar_controls(movie_id, X, k, metric='cosine', show_distance=False):\n",
    "    \"\"\"\n",
    "    Finds k-nearest neighbours for a given control id.\n",
    "    \n",
    "    Args:\n",
    "        control_id: id of the safe control\n",
    "        X: operation-control utility matrix\n",
    "        k: number of similar control to retrieve\n",
    "        metric: distance metric for kNN calculations\n",
    "    \n",
    "    Returns:\n",
    "        list of k similar control ID's\n",
    "    \"\"\"\n",
    "    neighbour_ids = []\n",
    "    \n",
    "    control_ind = control_mapper[control_id]\n",
    "    control_vec = X[control_ind]\n",
    "    k+=1\n",
    "    kNN = NearestNeighbors(n_neighbors=k, algorithm=\"brute\", metric=metric)\n",
    "    kNN.fit(X)\n",
    "    if isinstance(control_vec, (np.ndarray)):\n",
    "        control_vec = control_vec.reshape(1,-1)\n",
    "    neighbour = kNN.kneighbors(control_vec, return_distance=show_distance)\n",
    "    for i in range(0,k):\n",
    "        n = neighbour.item(i)\n",
    "        neighbour_ids.append(control_inv_mapper[n])\n",
    "    neighbour_ids.pop(0)\n",
    "    return neighbour_ids"
   ]
  },
  {
   "cell_type": "code",
   "execution_count": 21,
   "metadata": {},
   "outputs": [
    {
     "name": "stdout",
     "output_type": "stream",
     "text": [
      "Because the opration done by Wheel Management regarding the level of risk (and past incident similarity) as a safe control recommend:\n",
      "Load Restraint System\n",
      "Segregation of people and mobile equipment\n",
      "Fall Equipment\n",
      "Seatbelts\n",
      "Fundamentally Stable Parking\n",
      "Fundamentally Stable Parking\n",
      "Physical Isolation of Stored Energy\n",
      "Protected Work Area\n",
      "Blast Area Access Control\n",
      "Underground - Supported Ground\n"
     ]
    }
   ],
   "source": [
    "control_titles = dict(zip(controls['controlId'], controls['title']))\n",
    "\n",
    "control_id = 1\n",
    "\n",
    "similar_ids = find_similar_controls(control_id, X, k=10)\n",
    "control_title = control_titles[control_id]\n",
    "\n",
    "print(f\"Because the opration done by {control_title} regarding the level of risk (and past incident similarity) as a safe control recommend:\")\n",
    "for i in similar_ids:\n",
    "    print(control_titles[i])"
   ]
  },
  {
   "cell_type": "code",
   "execution_count": 22,
   "metadata": {},
   "outputs": [
    {
     "name": "stdout",
     "output_type": "stream",
     "text": [
      "Because the opration done by Wheel Management regarding the level of risk (and past incident similarity) as a safe control recommend::\n",
      "Load Restraint System\n",
      "Protected Work Area\n",
      "Fall Equipment\n",
      "Equipment conductive / dissipative\n",
      "Protected Work Area\n",
      "Thermofuse\n",
      "Wheel Management\n",
      "Blast Area Access Control\n",
      "Fundamentally Stable Parking\n",
      "Post Blast Inspection\n"
     ]
    }
   ],
   "source": [
    "control_titles = dict(zip(controls['controlId'], controls['title']))\n",
    "\n",
    "control_id = 1\n",
    "similar_ids = find_similar_controls(control_id, X, k=10, metric=\"euclidean\")\n",
    "\n",
    "control_title = control_titles[control_id]\n",
    "print(f\"Because the opration done by {control_title} regarding the level of risk (and past incident similarity) as a safe control recommend::\")\n",
    "for i in similar_ids:\n",
    "    print(control_titles[i])"
   ]
  },
  {
   "cell_type": "code",
   "execution_count": null,
   "metadata": {},
   "outputs": [],
   "source": []
  }
 ],
 "metadata": {
  "kernelspec": {
   "display_name": "Python 3",
   "language": "python",
   "name": "python3"
  },
  "language_info": {
   "codemirror_mode": {
    "name": "ipython",
    "version": 3
   },
   "file_extension": ".py",
   "mimetype": "text/x-python",
   "name": "python",
   "nbconvert_exporter": "python",
   "pygments_lexer": "ipython3",
   "version": "3.8.5"
  },
  "metadata": {
   "interpreter": {
    "hash": "992bc8ba9cd0734955a9846d857a011274af202ffe62987b7de5698f8eef36ee"
   }
  }
 },
 "nbformat": 4,
 "nbformat_minor": 2
}
